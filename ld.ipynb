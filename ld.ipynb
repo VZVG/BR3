{
  "cells": [
    {
      "cell_type": "code",
      "execution_count": null,
      "metadata": {
        "trusted": true
      },
      "outputs": [
        {
          "name": "stderr",
          "output_type": "stream",
          "text": [
            "<ipython-input-1-59ab05e21164>:2: DeprecationWarning: \n",
            "Pyarrow will become a required dependency of pandas in the next major release of pandas (pandas 3.0),\n",
            "(to allow more performant data types, such as the Arrow string type, and better interoperability with other libraries)\n",
            "but was not found to be installed on your system.\n",
            "If this would cause problems for you,\n",
            "please provide us feedback at https://github.com/pandas-dev/pandas/issues/54466\n",
            "        \n",
            "  import pandas as pd\n"
          ]
        }
      ],
      "source": [
        "import numpy as np\n",
        "import pandas as pd"
      ]
    },
    {
      "cell_type": "code",
      "execution_count": 2,
      "metadata": {
        "trusted": true
      },
      "outputs": [],
      "source": [
        "books = pd.read_csv('ld.csv')"
      ]
    },
    {
      "cell_type": "code",
      "execution_count": 3,
      "metadata": {
        "trusted": true
      },
      "outputs": [
        {
          "data": {
            "text/html": [
              "<div>\n",
              "<style scoped>\n",
              "    .dataframe tbody tr th:only-of-type {\n",
              "        vertical-align: middle;\n",
              "    }\n",
              "\n",
              "    .dataframe tbody tr th {\n",
              "        vertical-align: top;\n",
              "    }\n",
              "\n",
              "    .dataframe thead th {\n",
              "        text-align: right;\n",
              "    }\n",
              "</style>\n",
              "<table border=\"1\" class=\"dataframe\">\n",
              "  <thead>\n",
              "    <tr style=\"text-align: right;\">\n",
              "      <th></th>\n",
              "      <th>Title</th>\n",
              "      <th>Author(s)</th>\n",
              "      <th>Publisher(s)</th>\n",
              "      <th>Year Published</th>\n",
              "      <th>Pages</th>\n",
              "      <th>Description</th>\n",
              "      <th>Genre</th>\n",
              "    </tr>\n",
              "  </thead>\n",
              "  <tbody>\n",
              "    <tr>\n",
              "      <th>0</th>\n",
              "      <td>Agricultural Insect Pests and Their Control</td>\n",
              "      <td>V.B. Awasthi</td>\n",
              "      <td>Scientific Publishers</td>\n",
              "      <td>2008</td>\n",
              "      <td>304</td>\n",
              "      <td>Discusses various insect pests affecting agric...</td>\n",
              "      <td>Agriculture, Entomology</td>\n",
              "    </tr>\n",
              "    <tr>\n",
              "      <th>1</th>\n",
              "      <td>Biotechnology for Biological Control of Pests ...</td>\n",
              "      <td>Karl Maramorosch</td>\n",
              "      <td>Karl Maramorosch</td>\n",
              "      <td>1967</td>\n",
              "      <td>NaN</td>\n",
              "      <td>Investigates the use of biotechnology to devel...</td>\n",
              "      <td>Biotechnology, Pest Management</td>\n",
              "    </tr>\n",
              "    <tr>\n",
              "      <th>2</th>\n",
              "      <td>Ecological Engineering for Pest Management</td>\n",
              "      <td>Geoff M Gurr, Steve D Wratten, Miguel A Altieri</td>\n",
              "      <td>CSIRO</td>\n",
              "      <td>2004</td>\n",
              "      <td>238</td>\n",
              "      <td>Explores the role of ecological engineering in...</td>\n",
              "      <td>Ecology, Pest Management</td>\n",
              "    </tr>\n",
              "    <tr>\n",
              "      <th>3</th>\n",
              "      <td>Integrated Pest Management &amp; Bio Control</td>\n",
              "      <td>S. C. Dwivedi, Nalini Dwivedi</td>\n",
              "      <td>Pointer Publishers,</td>\n",
              "      <td>2006</td>\n",
              "      <td>472</td>\n",
              "      <td>Focuses on integrated pest management strategi...</td>\n",
              "      <td>Pest Management, Agriculture</td>\n",
              "    </tr>\n",
              "    <tr>\n",
              "      <th>4</th>\n",
              "      <td>Genetic Improvement of Field Crops</td>\n",
              "      <td>Gustavo A. Slafer</td>\n",
              "      <td>CRC Press</td>\n",
              "      <td>1993</td>\n",
              "      <td>486</td>\n",
              "      <td>Examines methods and advances in genetic impro...</td>\n",
              "      <td>Agriculture, Genetics</td>\n",
              "    </tr>\n",
              "  </tbody>\n",
              "</table>\n",
              "</div>"
            ],
            "text/plain": [
              "                                               Title  \\\n",
              "0        Agricultural Insect Pests and Their Control   \n",
              "1  Biotechnology for Biological Control of Pests ...   \n",
              "2         Ecological Engineering for Pest Management   \n",
              "3           Integrated Pest Management & Bio Control   \n",
              "4                 Genetic Improvement of Field Crops   \n",
              "\n",
              "                                         Author(s)           Publisher(s)  \\\n",
              "0                                     V.B. Awasthi  Scientific Publishers   \n",
              "1                                 Karl Maramorosch       Karl Maramorosch   \n",
              "2  Geoff M Gurr, Steve D Wratten, Miguel A Altieri                  CSIRO   \n",
              "3                    S. C. Dwivedi, Nalini Dwivedi    Pointer Publishers,   \n",
              "4                                Gustavo A. Slafer              CRC Press   \n",
              "\n",
              "  Year Published Pages                                        Description  \\\n",
              "0           2008   304  Discusses various insect pests affecting agric...   \n",
              "1           1967   NaN  Investigates the use of biotechnology to devel...   \n",
              "2           2004   238  Explores the role of ecological engineering in...   \n",
              "3           2006   472  Focuses on integrated pest management strategi...   \n",
              "4           1993   486  Examines methods and advances in genetic impro...   \n",
              "\n",
              "                            Genre  \n",
              "0         Agriculture, Entomology  \n",
              "1  Biotechnology, Pest Management  \n",
              "2        Ecology, Pest Management  \n",
              "3    Pest Management, Agriculture  \n",
              "4           Agriculture, Genetics  "
            ]
          },
          "execution_count": 3,
          "metadata": {},
          "output_type": "execute_result"
        }
      ],
      "source": [
        "books.head()"
      ]
    },
    {
      "cell_type": "code",
      "execution_count": null,
      "metadata": {
        "trusted": true
      },
      "outputs": [],
      "source": []
    },
    {
      "cell_type": "code",
      "execution_count": 4,
      "metadata": {
        "trusted": true
      },
      "outputs": [
        {
          "name": "stdout",
          "output_type": "stream",
          "text": [
            "(1260, 7)\n"
          ]
        }
      ],
      "source": [
        "print(books.shape)"
      ]
    },
    {
      "cell_type": "code",
      "execution_count": 5,
      "metadata": {
        "trusted": true
      },
      "outputs": [
        {
          "data": {
            "text/plain": [
              "Title               0\n",
              "Author(s)         153\n",
              "Publisher(s)      316\n",
              "Year Published    654\n",
              "Pages             293\n",
              "Description         8\n",
              "Genre               0\n",
              "dtype: int64"
            ]
          },
          "execution_count": 5,
          "metadata": {},
          "output_type": "execute_result"
        }
      ],
      "source": [
        "books.isnull().sum()"
      ]
    },
    {
      "cell_type": "code",
      "execution_count": 7,
      "metadata": {
        "trusted": true
      },
      "outputs": [],
      "source": [
        "books_grouped = books.groupby('Title')\n"
      ]
    },
    {
      "cell_type": "code",
      "execution_count": 8,
      "metadata": {
        "trusted": true
      },
      "outputs": [
        {
          "name": "stderr",
          "output_type": "stream",
          "text": [
            "<ipython-input-8-8fedd31ebcb0>:1: FutureWarning: A value is trying to be set on a copy of a DataFrame or Series through chained assignment using an inplace method.\n",
            "The behavior will change in pandas 3.0. This inplace method will never work because the intermediate object on which we are setting values always behaves as a copy.\n",
            "\n",
            "For example, when doing 'df[col].method(value, inplace=True)', try using 'df.method({col: value}, inplace=True)' or df[col] = df[col].method(value) instead, to perform the operation inplace on the original object.\n",
            "\n",
            "\n",
            "  books['Author(s)'].fillna('',inplace=True)\n",
            "<ipython-input-8-8fedd31ebcb0>:2: FutureWarning: A value is trying to be set on a copy of a DataFrame or Series through chained assignment using an inplace method.\n",
            "The behavior will change in pandas 3.0. This inplace method will never work because the intermediate object on which we are setting values always behaves as a copy.\n",
            "\n",
            "For example, when doing 'df[col].method(value, inplace=True)', try using 'df.method({col: value}, inplace=True)' or df[col] = df[col].method(value) instead, to perform the operation inplace on the original object.\n",
            "\n",
            "\n",
            "  books['Description'].fillna('',inplace=True)\n",
            "<ipython-input-8-8fedd31ebcb0>:3: FutureWarning: A value is trying to be set on a copy of a DataFrame or Series through chained assignment using an inplace method.\n",
            "The behavior will change in pandas 3.0. This inplace method will never work because the intermediate object on which we are setting values always behaves as a copy.\n",
            "\n",
            "For example, when doing 'df[col].method(value, inplace=True)', try using 'df.method({col: value}, inplace=True)' or df[col] = df[col].method(value) instead, to perform the operation inplace on the original object.\n",
            "\n",
            "\n",
            "  books['Publisher(s)'].fillna('',inplace=True)\n",
            "<ipython-input-8-8fedd31ebcb0>:4: FutureWarning: A value is trying to be set on a copy of a DataFrame or Series through chained assignment using an inplace method.\n",
            "The behavior will change in pandas 3.0. This inplace method will never work because the intermediate object on which we are setting values always behaves as a copy.\n",
            "\n",
            "For example, when doing 'df[col].method(value, inplace=True)', try using 'df.method({col: value}, inplace=True)' or df[col] = df[col].method(value) instead, to perform the operation inplace on the original object.\n",
            "\n",
            "\n",
            "  books['Genre'].fillna('',inplace=True)\n",
            "<ipython-input-8-8fedd31ebcb0>:5: FutureWarning: A value is trying to be set on a copy of a DataFrame or Series through chained assignment using an inplace method.\n",
            "The behavior will change in pandas 3.0. This inplace method will never work because the intermediate object on which we are setting values always behaves as a copy.\n",
            "\n",
            "For example, when doing 'df[col].method(value, inplace=True)', try using 'df.method({col: value}, inplace=True)' or df[col] = df[col].method(value) instead, to perform the operation inplace on the original object.\n",
            "\n",
            "\n",
            "  books['Year Published'].fillna('',inplace=True)\n",
            "<ipython-input-8-8fedd31ebcb0>:6: FutureWarning: A value is trying to be set on a copy of a DataFrame or Series through chained assignment using an inplace method.\n",
            "The behavior will change in pandas 3.0. This inplace method will never work because the intermediate object on which we are setting values always behaves as a copy.\n",
            "\n",
            "For example, when doing 'df[col].method(value, inplace=True)', try using 'df.method({col: value}, inplace=True)' or df[col] = df[col].method(value) instead, to perform the operation inplace on the original object.\n",
            "\n",
            "\n",
            "  books['Pages'].fillna('',inplace=True)\n"
          ]
        }
      ],
      "source": [
        "books['Author(s)'].fillna('',inplace=True)\n",
        "books['Description'].fillna('',inplace=True)\n",
        "books['Publisher(s)'].fillna('',inplace=True)\n",
        "books['Genre'].fillna('',inplace=True)\n",
        "books['Year Published'].fillna('',inplace=True)\n",
        "books['Pages'].fillna('',inplace=True)"
      ]
    },
    {
      "cell_type": "code",
      "execution_count": 35,
      "metadata": {
        "trusted": true
      },
      "outputs": [],
      "source": [
        "#now combining relevant features into a single string\n",
        "\n"
      ]
    },
    {
      "cell_type": "code",
      "execution_count": 9,
      "metadata": {
        "trusted": true
      },
      "outputs": [
        {
          "data": {
            "text/html": [
              "<div>\n",
              "<style scoped>\n",
              "    .dataframe tbody tr th:only-of-type {\n",
              "        vertical-align: middle;\n",
              "    }\n",
              "\n",
              "    .dataframe tbody tr th {\n",
              "        vertical-align: top;\n",
              "    }\n",
              "\n",
              "    .dataframe thead th {\n",
              "        text-align: right;\n",
              "    }\n",
              "</style>\n",
              "<table border=\"1\" class=\"dataframe\">\n",
              "  <thead>\n",
              "    <tr style=\"text-align: right;\">\n",
              "      <th></th>\n",
              "      <th>Title</th>\n",
              "      <th>Author(s)</th>\n",
              "      <th>Publisher(s)</th>\n",
              "      <th>Year Published</th>\n",
              "      <th>Pages</th>\n",
              "      <th>Description</th>\n",
              "      <th>Genre</th>\n",
              "    </tr>\n",
              "  </thead>\n",
              "  <tbody>\n",
              "    <tr>\n",
              "      <th>0</th>\n",
              "      <td>Agricultural Insect Pests and Their Control</td>\n",
              "      <td>V.B. Awasthi</td>\n",
              "      <td>Scientific Publishers</td>\n",
              "      <td>2008</td>\n",
              "      <td>304</td>\n",
              "      <td>Discusses various insect pests affecting agric...</td>\n",
              "      <td>Agriculture, Entomology</td>\n",
              "    </tr>\n",
              "    <tr>\n",
              "      <th>1</th>\n",
              "      <td>Biotechnology for Biological Control of Pests ...</td>\n",
              "      <td>Karl Maramorosch</td>\n",
              "      <td>Karl Maramorosch</td>\n",
              "      <td>1967</td>\n",
              "      <td></td>\n",
              "      <td>Investigates the use of biotechnology to devel...</td>\n",
              "      <td>Biotechnology, Pest Management</td>\n",
              "    </tr>\n",
              "    <tr>\n",
              "      <th>2</th>\n",
              "      <td>Ecological Engineering for Pest Management</td>\n",
              "      <td>Geoff M Gurr, Steve D Wratten, Miguel A Altieri</td>\n",
              "      <td>CSIRO</td>\n",
              "      <td>2004</td>\n",
              "      <td>238</td>\n",
              "      <td>Explores the role of ecological engineering in...</td>\n",
              "      <td>Ecology, Pest Management</td>\n",
              "    </tr>\n",
              "    <tr>\n",
              "      <th>3</th>\n",
              "      <td>Integrated Pest Management &amp; Bio Control</td>\n",
              "      <td>S. C. Dwivedi, Nalini Dwivedi</td>\n",
              "      <td>Pointer Publishers,</td>\n",
              "      <td>2006</td>\n",
              "      <td>472</td>\n",
              "      <td>Focuses on integrated pest management strategi...</td>\n",
              "      <td>Pest Management, Agriculture</td>\n",
              "    </tr>\n",
              "    <tr>\n",
              "      <th>4</th>\n",
              "      <td>Genetic Improvement of Field Crops</td>\n",
              "      <td>Gustavo A. Slafer</td>\n",
              "      <td>CRC Press</td>\n",
              "      <td>1993</td>\n",
              "      <td>486</td>\n",
              "      <td>Examines methods and advances in genetic impro...</td>\n",
              "      <td>Agriculture, Genetics</td>\n",
              "    </tr>\n",
              "  </tbody>\n",
              "</table>\n",
              "</div>"
            ],
            "text/plain": [
              "                                               Title  \\\n",
              "0        Agricultural Insect Pests and Their Control   \n",
              "1  Biotechnology for Biological Control of Pests ...   \n",
              "2         Ecological Engineering for Pest Management   \n",
              "3           Integrated Pest Management & Bio Control   \n",
              "4                 Genetic Improvement of Field Crops   \n",
              "\n",
              "                                         Author(s)           Publisher(s)  \\\n",
              "0                                     V.B. Awasthi  Scientific Publishers   \n",
              "1                                 Karl Maramorosch       Karl Maramorosch   \n",
              "2  Geoff M Gurr, Steve D Wratten, Miguel A Altieri                  CSIRO   \n",
              "3                    S. C. Dwivedi, Nalini Dwivedi    Pointer Publishers,   \n",
              "4                                Gustavo A. Slafer              CRC Press   \n",
              "\n",
              "  Year Published Pages                                        Description  \\\n",
              "0           2008   304  Discusses various insect pests affecting agric...   \n",
              "1           1967        Investigates the use of biotechnology to devel...   \n",
              "2           2004   238  Explores the role of ecological engineering in...   \n",
              "3           2006   472  Focuses on integrated pest management strategi...   \n",
              "4           1993   486  Examines methods and advances in genetic impro...   \n",
              "\n",
              "                            Genre  \n",
              "0         Agriculture, Entomology  \n",
              "1  Biotechnology, Pest Management  \n",
              "2        Ecology, Pest Management  \n",
              "3    Pest Management, Agriculture  \n",
              "4           Agriculture, Genetics  "
            ]
          },
          "execution_count": 9,
          "metadata": {},
          "output_type": "execute_result"
        }
      ],
      "source": [
        "books.head()"
      ]
    },
    {
      "cell_type": "code",
      "execution_count": 11,
      "metadata": {
        "trusted": true
      },
      "outputs": [],
      "source": [
        "books['combined_features'] = books['Title']+' '+ books['Author(s)'] + books['Description'] + books['Publisher(s)'] + books['Genre']"
      ]
    },
    {
      "cell_type": "code",
      "execution_count": 12,
      "metadata": {
        "trusted": true
      },
      "outputs": [],
      "source": [
        "from sklearn.feature_extraction.text import TfidfVectorizer\n",
        "\n",
        "tfidf_vectorizer = TfidfVectorizer(stop_words = 'english')\n",
        "tfidf_matrix = tfidf_vectorizer.fit_transform(books['combined_features'])"
      ]
    },
    {
      "cell_type": "code",
      "execution_count": 13,
      "metadata": {
        "trusted": true
      },
      "outputs": [],
      "source": [
        "from sklearn.metrics.pairwise import cosine_similarity\n",
        "\n",
        "# Compute the cosine similarity matrix\n",
        "cosine_sim_matrix = cosine_similarity(tfidf_matrix, tfidf_matrix)"
      ]
    },
    {
      "cell_type": "code",
      "execution_count": 16,
      "metadata": {
        "trusted": true
      },
      "outputs": [],
      "source": [
        "def get_recommendations(Title, cosine_sim=cosine_sim_matrix):\n",
        "    # Get the index of the book that matches the title\n",
        "    idx = books[books['Title'] == Title].index[0]\n",
        "\n",
        "    # Get the pairwise similarity scores of all books with that book\n",
        "    sim_scores = list(enumerate(cosine_sim[idx]))\n",
        "\n",
        "    # Sort the books based on the similarity scores\n",
        "    sim_scores = sorted(sim_scores, key=lambda x: x[1], reverse=True)\n",
        "\n",
        "    # Get the scores of the 10 most similar books\n",
        "    sim_scores = sim_scores[1:20]\n",
        "\n",
        "    # Get the book indices\n",
        "    book_indices = [i[0] for i in sim_scores]\n",
        "\n",
        "    # Return the top 10 most similar books\n",
        "    return books['Title'].iloc[book_indices]"
      ]
    },
    {
      "cell_type": "code",
      "execution_count": 18,
      "metadata": {
        "trusted": true
      },
      "outputs": [
        {
          "name": "stdout",
          "output_type": "stream",
          "text": [
            "567                       Cell Division Control in Plants\n",
            "1156                       कैंसर पर विजय कैसे प्राप्त करे\n",
            "1100                              अच्छे बनो अच्छे मिलेंगे\n",
            "141                  मृत्यु की पराजय (Victory Over Death)\n",
            "1139                                    पर्यावरण और ऊर्जा\n",
            "1137                                     पर्यावरण संरक्षण\n",
            "1076                                          आंख का पानी\n",
            "1059    राजभाषा सेनानी: हिन्दी कवि हिन्दी कवियों का सं...\n",
            "1058    राजभाषा सेनानी: हिन्दी लेखक हिन्दी लेखकों का स...\n",
            "1033                                      कार्यालय दीपिका\n",
            "1141                     पर्यावरण संकट एवं प्रदूषण का कहर\n",
            "930                                   हिन्दी और हिन्दीकार\n",
            "1051    व्यावहारिक राजभाषा हिन्दी: हिन्दी प्रयोग विधि ...\n",
            "1057                                  हिन्दी और हिन्दीकार\n",
            "1039                                 हिन्दी वर्तनी दीपिका\n",
            "1078                                   कम्प्यूटर एक परिचय\n",
            "1093                      पाठकों के अकाल परः कलम का दरबार\n",
            "1133             धर्मग्रन्थों ने कहा पर्यावरण के बारे में\n",
            "1087                       हमारा स्वास्थ्य और घरेलू उपचार\n",
            "Name: Title, dtype: object\n"
          ]
        }
      ],
      "source": [
        "print(get_recommendations('परिस्थितियों से जीतो'))"
      ]
    },
    {
      "cell_type": "code",
      "execution_count": null,
      "metadata": {
        "trusted": true
      },
      "outputs": [],
      "source": []
    },
    {
      "cell_type": "code",
      "execution_count": null,
      "metadata": {
        "trusted": true
      },
      "outputs": [],
      "source": []
    }
  ],
  "metadata": {
    "kernelspec": {
      "display_name": "Python (Pyodide)",
      "language": "python",
      "name": "python"
    },
    "language_info": {
      "codemirror_mode": {
        "name": "python",
        "version": 3
      },
      "file_extension": ".py",
      "mimetype": "text/x-python",
      "name": "python",
      "nbconvert_exporter": "python",
      "pygments_lexer": "ipython3",
      "version": "3.8"
    }
  },
  "nbformat": 4,
  "nbformat_minor": 4
}
